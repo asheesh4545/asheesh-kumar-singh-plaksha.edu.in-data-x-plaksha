{
  "cells": [
    {
      "cell_type": "markdown",
      "id": "b3d08535",
      "metadata": {
        "id": "b3d08535"
      },
      "source": [
        "<img src=\"https://raw.githubusercontent.com/afo/data-x-plaksha/master/imgsource/dx_logo.png\" align=\"left\"></img><br><br><br><br>"
      ]
    },
    {
      "cell_type": "markdown",
      "id": "4c408082",
      "metadata": {
        "id": "4c408082"
      },
      "source": [
        "## Plaksha SQL assignment"
      ]
    },
    {
      "cell_type": "markdown",
      "id": "7f7d4113-c3a9-47b2-b7df-b844d49abd22",
      "metadata": {
        "id": "7f7d4113-c3a9-47b2-b7df-b844d49abd22"
      },
      "source": [
        "---\n",
        "\n",
        "## Submission details:\n",
        "\n",
        "Please submit this as a Jupyter Notebook and a PDF of your results (both should show output). Also push your solutions to Github.\n",
        "\n",
        "For the submision create a local database with `sqlite3` or `sqlalchemy` in a Jupyter notebook and make the queries either with a cursor object (and then print the results) or by using pandas `pd.read_sql_query()`."
      ]
    },
    {
      "cell_type": "markdown",
      "id": "0c551f03-7eff-43e2-89a7-a53b54098223",
      "metadata": {
        "id": "0c551f03-7eff-43e2-89a7-a53b54098223"
      },
      "source": [
        "___\n",
        "\n",
        "When completing this homework you can experiment with SQL commands by utilizing this great online editor:\n",
        "\n",
        "https://www.w3schools.com/sql/trysql.asp?filename=trysql_select_all\n",
        "\n",
        "There are already some tables in the online Database, namely:\n",
        "\n",
        "`Categories, Employees, OrderDetails, Orders, Products, Shippers, and Suppliers.`\n",
        "\n",
        "If you want you can drop them by running  `DROP TABLE [table-name];` (or just keep them)."
      ]
    },
    {
      "cell_type": "markdown",
      "id": "dccc820f-21b0-4b2c-9ca8-9cb9eab76023",
      "metadata": {
        "id": "dccc820f-21b0-4b2c-9ca8-9cb9eab76023"
      },
      "source": [
        "___\n",
        "\n",
        "## Exercises:\n",
        "\n",
        "First create a table called students. It has the columns: 'student_id', 'name', 'major', 'gpa' and 'enrollment_date' We will use a new form of `CREATE TABLE` expression to produce this table.\n",
        "\n",
        "Note that you can improve this and are welcome to do so -- e.g. by specifying for example a PRIMARY KEY and a FOREIGN KEY in Q2 :)\n",
        "\n",
        "    CREATE TABLE students AS\n",
        "        SELECT 1 AS student_id, \"John\" AS name, \"Computer Science\" AS major, 3.5 AS gpa, \"01-01-2022\" AS enrollment_date UNION\n",
        "        SELECT 2, \"Jane\", \"Physics\", 3.8, \"01-02-2022\" UNION\n",
        "        SELECT 3, \"Bob\", \"Engineering\", 3.0, \"01-03-2022\" UNION\n",
        "        SELECT 4, \"Samantha\", \"Physics\", 3.9, \"01-04-2022\" UNION\n",
        "        SELECT 5, \"James\", \"Engineering\", 3.7, \"01-05-2022\" UNION\n",
        "        SELECT 6, \"Emily\", \"Computer Science\", 3.6, \"01-06-2022\" UNION\n",
        "        SELECT 7, \"Michael\", \"Computer Science\", 3.2, \"01-07-2022\" UNION\n",
        "        SELECT 8, \"Jessica\", \"Engineering\", 3.8, \"01-08-2022\" UNION\n",
        "        SELECT 9, \"Jacob\", \"Physics\", 3.4, \"01-09-2022\" UNION\n",
        "        SELECT 10, \"Ashley\", \"Physics\", 3.9, \"01-10-2022\";\n",
        "\n",
        "\n",
        "## Q1 Simple SELECTS (on the students table)\n",
        "1. SELECT all records in the table.\n",
        "2. SELECT students whose major is \"Computer Science\".\n",
        "3. SELECT all unique majors (use SELECT DISTINCT) and order them by name, descending order (i.e. Physics first).\n",
        "4. SELECT all students that have an 'e' in their name and order them by gpa in ascending order.\n",
        "\n",
        "\n",
        "## Q2 Joins\n",
        "\n",
        "Create a new table called courses, which indicates the courses taken by the students. \n",
        "\n",
        "Create the table by running:\n",
        "\t\n",
        "    CREATE TABLE courses AS\n",
        "        SELECT 1 AS course_id, \"Python programming\" AS course_name, 1 AS student_id, \"A\" AS grade UNION\n",
        "        SELECT 2, \"Data Structures\", 2, \"B\" UNION\n",
        "        SELECT 3, \"Database Systems\", 3, \"B\" UNION\n",
        "        SELECT 1, \"Python programming\", 4, \"A\" UNION\n",
        "        SELECT 4, \"Quantum Mechanics\", 5, \"C\" UNION\n",
        "        SELECT 1, \"Python programming\", 6, \"F\" UNION\n",
        "        SELECT 2, \"Data Structures\", 7, \"C\" UNION\n",
        "        SELECT 3, \"Database Systems\", 8, \"A\" UNION\n",
        "        SELECT 4, \"Quantum Mechanics\", 9, \"A\" UNION\n",
        "        SELECT 2, \"Data Structures\", 10, \"F\";\n",
        "\n",
        "1. COUNT the number of unique courses.\n",
        "2. JOIN the tables students and courses and COUNT the number of students with the major Computer Science taking the course Python programming.\n",
        "3. JOIN the tables students and courses and select the students who have grades higher than \"C\", only show their name, major, gpa, course_name and grade.\n",
        "\n",
        "\n",
        "## Q3 Aggregate functions, numerical logic and grouping\n",
        "\n",
        "1. Find the average gpa of all students.\n",
        "2. SELECT the student with the maximum gpa, display only their student_id, major and gpa\n",
        "3. SELECT the student with the minimum gpa, display only their student_id, major and gpa\n",
        "4. SELECT the students with a gpa greater than 3.6 in the majors of \"Physics\" and \"Engineering\", display only their student_id, major and gpa\n",
        "5. Group the students by their major and retrieve the average grade of each major.\n",
        "6. SELECT the top 2 students with the highest GPA in each major and order the results by major in ascending order, then by GPA in descending order"
      ]
    },
    {
      "cell_type": "code",
      "source": [
        "import sqlite3\n",
        "!ls"
      ],
      "metadata": {
        "colab": {
          "base_uri": "https://localhost:8080/"
        },
        "id": "9NTZpqdedqLv",
        "outputId": "6b217f38-c78e-41ab-c4c8-4690f947fe76"
      },
      "id": "9NTZpqdedqLv",
      "execution_count": 1,
      "outputs": [
        {
          "output_type": "stream",
          "name": "stdout",
          "text": [
            "sample_data\n"
          ]
        }
      ]
    },
    {
      "cell_type": "code",
      "source": [
        "connect = sqlite3.connect('students.db')\n",
        "!ls"
      ],
      "metadata": {
        "colab": {
          "base_uri": "https://localhost:8080/"
        },
        "id": "Y3ITzlF5eHjs",
        "outputId": "bc56c0c3-e39d-42a6-b72e-90c73f270b24"
      },
      "id": "Y3ITzlF5eHjs",
      "execution_count": 3,
      "outputs": [
        {
          "output_type": "stream",
          "name": "stdout",
          "text": [
            "sample_data  students.db\n"
          ]
        }
      ]
    },
    {
      "cell_type": "code",
      "source": [
        "cursor = connect.cursor()"
      ],
      "metadata": {
        "id": "BebgHhezeHnq"
      },
      "id": "BebgHhezeHnq",
      "execution_count": 4,
      "outputs": []
    },
    {
      "cell_type": "markdown",
      "source": [
        "# Q1 Answer\n"
      ],
      "metadata": {
        "id": "t2Dl8fG9fJHO"
      },
      "id": "t2Dl8fG9fJHO"
    },
    {
      "cell_type": "code",
      "source": [
        "command = \"\"\"\n",
        "CREATE TABLE students AS\n",
        " SELECT 1 AS student_id, \"John\" AS name, \"Computer Science\" AS major, 3.5 AS gpa, \"01-01-2022\" AS\n",
        "enrollment_date UNION\n",
        " SELECT 2, \"Jane\", \"Physics\", 3.8, \"01-02-2022\" UNION\n",
        " SELECT 3, \"Bob\", \"Engineering\", 3.0, \"01-03-2022\" UNION\n",
        " SELECT 4, \"Samantha\", \"Physics\", 3.9, \"01-04-2022\" UNION\n",
        " SELECT 5, \"James\", \"Engineering\", 3.7, \"01-05-2022\" UNION\n",
        " SELECT 6, \"Emily\", \"Computer Science\", 3.6, \"01-06-2022\" UNION\n",
        " SELECT 7, \"Michael\", \"Computer Science\", 3.2, \"01-07-2022\" UNION\n",
        " SELECT 8, \"Jessica\", \"Engineering\", 3.8, \"01-08-2022\" UNION\n",
        " SELECT 9, \"Jacob\", \"Physics\", 3.4, \"01-09-2022\" UNION\n",
        " SELECT 10, \"Ashley\", \"Physics\", 3.9, \"01-10-2022\";\n",
        " \"\"\""
      ],
      "metadata": {
        "id": "F8GdTBjTeHrS"
      },
      "id": "F8GdTBjTeHrS",
      "execution_count": 6,
      "outputs": []
    },
    {
      "cell_type": "code",
      "source": [
        "cursor.execute(command)"
      ],
      "metadata": {
        "colab": {
          "base_uri": "https://localhost:8080/"
        },
        "id": "P2xllzUhemee",
        "outputId": "cc790a61-1ee1-4437-d559-7333fe9d6234"
      },
      "id": "P2xllzUhemee",
      "execution_count": 7,
      "outputs": [
        {
          "output_type": "execute_result",
          "data": {
            "text/plain": [
              "<sqlite3.Cursor at 0x7f2300aab110>"
            ]
          },
          "metadata": {},
          "execution_count": 7
        }
      ]
    },
    {
      "cell_type": "code",
      "source": [
        "cursor.execute('SELECT * FROM students;').fetchall()"
      ],
      "metadata": {
        "colab": {
          "base_uri": "https://localhost:8080/"
        },
        "id": "sUmbU_-zesAF",
        "outputId": "dcaba195-286c-4156-d584-675d313c1c9d"
      },
      "id": "sUmbU_-zesAF",
      "execution_count": 8,
      "outputs": [
        {
          "output_type": "execute_result",
          "data": {
            "text/plain": [
              "[(1, 'John', 'Computer Science', 3.5, '01-01-2022'),\n",
              " (2, 'Jane', 'Physics', 3.8, '01-02-2022'),\n",
              " (3, 'Bob', 'Engineering', 3.0, '01-03-2022'),\n",
              " (4, 'Samantha', 'Physics', 3.9, '01-04-2022'),\n",
              " (5, 'James', 'Engineering', 3.7, '01-05-2022'),\n",
              " (6, 'Emily', 'Computer Science', 3.6, '01-06-2022'),\n",
              " (7, 'Michael', 'Computer Science', 3.2, '01-07-2022'),\n",
              " (8, 'Jessica', 'Engineering', 3.8, '01-08-2022'),\n",
              " (9, 'Jacob', 'Physics', 3.4, '01-09-2022'),\n",
              " (10, 'Ashley', 'Physics', 3.9, '01-10-2022')]"
            ]
          },
          "metadata": {},
          "execution_count": 8
        }
      ]
    },
    {
      "cell_type": "code",
      "source": [
        "cursor.execute('SELECT * FROM students WHERE major== \"Computer Science\";').fetchall()"
      ],
      "metadata": {
        "colab": {
          "base_uri": "https://localhost:8080/"
        },
        "id": "4sqJlETJesDI",
        "outputId": "30bbb245-5298-4fcc-f856-2b522392fa81"
      },
      "id": "4sqJlETJesDI",
      "execution_count": 9,
      "outputs": [
        {
          "output_type": "execute_result",
          "data": {
            "text/plain": [
              "[(1, 'John', 'Computer Science', 3.5, '01-01-2022'),\n",
              " (6, 'Emily', 'Computer Science', 3.6, '01-06-2022'),\n",
              " (7, 'Michael', 'Computer Science', 3.2, '01-07-2022')]"
            ]
          },
          "metadata": {},
          "execution_count": 9
        }
      ]
    },
    {
      "cell_type": "code",
      "source": [
        "cursor.execute('SELECT DISTINCT major FROM students ORDER BY major DESC ;').fetchall()"
      ],
      "metadata": {
        "colab": {
          "base_uri": "https://localhost:8080/"
        },
        "id": "GDAiRzWbesGG",
        "outputId": "4705b115-0f7a-4687-92bd-78652bc05b4f"
      },
      "id": "GDAiRzWbesGG",
      "execution_count": 10,
      "outputs": [
        {
          "output_type": "execute_result",
          "data": {
            "text/plain": [
              "[('Physics',), ('Engineering',), ('Computer Science',)]"
            ]
          },
          "metadata": {},
          "execution_count": 10
        }
      ]
    },
    {
      "cell_type": "code",
      "source": [
        "cursor.execute(\"SELECT name, gpa FROM students WHERE name LIKE '%e%' OR name LIKE '%E%' ORDER BY gpa ;\").fetchall()"
      ],
      "metadata": {
        "colab": {
          "base_uri": "https://localhost:8080/"
        },
        "id": "qoEAQqh2esJl",
        "outputId": "acade9e8-cb23-4c0e-f02e-38b2800727f9"
      },
      "id": "qoEAQqh2esJl",
      "execution_count": 11,
      "outputs": [
        {
          "output_type": "execute_result",
          "data": {
            "text/plain": [
              "[('Michael', 3.2),\n",
              " ('Emily', 3.6),\n",
              " ('James', 3.7),\n",
              " ('Jane', 3.8),\n",
              " ('Jessica', 3.8),\n",
              " ('Ashley', 3.9)]"
            ]
          },
          "metadata": {},
          "execution_count": 11
        }
      ]
    },
    {
      "cell_type": "markdown",
      "id": "3ab84519",
      "metadata": {
        "id": "3ab84519"
      },
      "source": [
        "# Q2 Answer\n"
      ]
    },
    {
      "cell_type": "code",
      "execution_count": 12,
      "id": "c7cff114",
      "metadata": {
        "id": "c7cff114"
      },
      "outputs": [],
      "source": [
        "command2 =\"\"\"\n",
        "CREATE TABLE courses AS\n",
        " SELECT 1 AS course_id, \"Python programming\" AS course_name, 1 AS student_id, \"A\" AS grade UNION\n",
        " SELECT 2, \"Data Structures\", 2, \"B\" UNION\n",
        " SELECT 3, \"Database Systems\", 3, \"B\" UNION\n",
        " SELECT 1, \"Python programming\", 4, \"A\" UNION\n",
        " SELECT 4, \"Quantum Mechanics\", 5, \"C\" UNION\n",
        " SELECT 1, \"Python programming\", 6, \"F\" UNION\n",
        " SELECT 2, \"Data Structures\", 7, \"C\" UNION\n",
        " SELECT 3, \"Database Systems\", 8, \"A\" UNION\n",
        " SELECT 4, \"Quantum Mechanics\", 9, \"A\" UNION\n",
        " SELECT 2, \"Data Structures\", 10, \"F\";\n",
        "\"\"\""
      ]
    },
    {
      "cell_type": "code",
      "source": [
        "cursor.execute(command2)"
      ],
      "metadata": {
        "colab": {
          "base_uri": "https://localhost:8080/"
        },
        "id": "QBXpA70pfQUW",
        "outputId": "6fd38822-191a-4cb8-8516-f6f28a28ae79"
      },
      "id": "QBXpA70pfQUW",
      "execution_count": 13,
      "outputs": [
        {
          "output_type": "execute_result",
          "data": {
            "text/plain": [
              "<sqlite3.Cursor at 0x7f2300aab110>"
            ]
          },
          "metadata": {},
          "execution_count": 13
        }
      ]
    },
    {
      "cell_type": "code",
      "source": [
        "cursor.execute('SELECT * from courses;').fetchall() "
      ],
      "metadata": {
        "colab": {
          "base_uri": "https://localhost:8080/"
        },
        "id": "zUDQgcNEfU3c",
        "outputId": "a3b51277-56f1-48a6-a75f-7716ecfcad39"
      },
      "id": "zUDQgcNEfU3c",
      "execution_count": 14,
      "outputs": [
        {
          "output_type": "execute_result",
          "data": {
            "text/plain": [
              "[(1, 'Python programming', 1, 'A'),\n",
              " (1, 'Python programming', 4, 'A'),\n",
              " (1, 'Python programming', 6, 'F'),\n",
              " (2, 'Data Structures', 2, 'B'),\n",
              " (2, 'Data Structures', 7, 'C'),\n",
              " (2, 'Data Structures', 10, 'F'),\n",
              " (3, 'Database Systems', 3, 'B'),\n",
              " (3, 'Database Systems', 8, 'A'),\n",
              " (4, 'Quantum Mechanics', 5, 'C'),\n",
              " (4, 'Quantum Mechanics', 9, 'A')]"
            ]
          },
          "metadata": {},
          "execution_count": 14
        }
      ]
    },
    {
      "cell_type": "code",
      "source": [
        "cursor.execute('SELECT COUNT(DISTINCT course_name) FROM courses;').fetchone()"
      ],
      "metadata": {
        "colab": {
          "base_uri": "https://localhost:8080/"
        },
        "id": "JD2E2DfFfYPv",
        "outputId": "52a9f1f6-b5de-4e6a-b318-4a976e0d353a"
      },
      "id": "JD2E2DfFfYPv",
      "execution_count": 15,
      "outputs": [
        {
          "output_type": "execute_result",
          "data": {
            "text/plain": [
              "(4,)"
            ]
          },
          "metadata": {},
          "execution_count": 15
        }
      ]
    },
    {
      "cell_type": "code",
      "source": [
        "cursor.execute('SELECT COUNT(students.major) FROM students INNER JOIN courses ON students.student_id=courses.student_id WHERE students.major==\"Computer Science\" AND courses.course_name==\"Python programming\" ;').fetchall()"
      ],
      "metadata": {
        "colab": {
          "base_uri": "https://localhost:8080/"
        },
        "id": "ZnImw2VDfbgz",
        "outputId": "3000a0ef-2203-4d0c-8a85-610fc09e3c2f"
      },
      "id": "ZnImw2VDfbgz",
      "execution_count": 16,
      "outputs": [
        {
          "output_type": "execute_result",
          "data": {
            "text/plain": [
              "[(2,)]"
            ]
          },
          "metadata": {},
          "execution_count": 16
        }
      ]
    },
    {
      "cell_type": "code",
      "source": [
        "cursor.execute('SELECT students.name, students.major, students.gpa, courses.course_name, courses.grade FROM students INNER JOIN courses ON students.student_id=courses.student_id WHERE courses.grade<\"C\" ;').fetchall()"
      ],
      "metadata": {
        "colab": {
          "base_uri": "https://localhost:8080/"
        },
        "id": "Whl4R2V3fekL",
        "outputId": "8bebf8b9-e343-45fb-a8e8-677ed803c979"
      },
      "id": "Whl4R2V3fekL",
      "execution_count": 17,
      "outputs": [
        {
          "output_type": "execute_result",
          "data": {
            "text/plain": [
              "[('John', 'Computer Science', 3.5, 'Python programming', 'A'),\n",
              " ('Samantha', 'Physics', 3.9, 'Python programming', 'A'),\n",
              " ('Jane', 'Physics', 3.8, 'Data Structures', 'B'),\n",
              " ('Bob', 'Engineering', 3.0, 'Database Systems', 'B'),\n",
              " ('Jessica', 'Engineering', 3.8, 'Database Systems', 'A'),\n",
              " ('Jacob', 'Physics', 3.4, 'Quantum Mechanics', 'A')]"
            ]
          },
          "metadata": {},
          "execution_count": 17
        }
      ]
    },
    {
      "cell_type": "markdown",
      "source": [
        "# Q3 Answer"
      ],
      "metadata": {
        "id": "XPEF3A9Ffkx5"
      },
      "id": "XPEF3A9Ffkx5"
    },
    {
      "cell_type": "code",
      "source": [
        "cursor.execute(\"SELECT AVG(gpa) FROM students\").fetchall()"
      ],
      "metadata": {
        "colab": {
          "base_uri": "https://localhost:8080/"
        },
        "id": "E1Nw3mhYfhdK",
        "outputId": "c961587c-f1f5-445a-9b98-6b11de10673f"
      },
      "id": "E1Nw3mhYfhdK",
      "execution_count": 19,
      "outputs": [
        {
          "output_type": "execute_result",
          "data": {
            "text/plain": [
              "[(3.5800000000000005,)]"
            ]
          },
          "metadata": {},
          "execution_count": 19
        }
      ]
    },
    {
      "cell_type": "code",
      "source": [
        "cursor.execute(\"SELECT student_id, major, gpa FROM students WHERE gpa = (SELECT MAX(gpa) FROM students)\").fetchall()"
      ],
      "metadata": {
        "colab": {
          "base_uri": "https://localhost:8080/"
        },
        "id": "LpmY1Cobf4GT",
        "outputId": "a4be748d-b64c-4c8b-9af1-4a78c542aa59"
      },
      "id": "LpmY1Cobf4GT",
      "execution_count": 20,
      "outputs": [
        {
          "output_type": "execute_result",
          "data": {
            "text/plain": [
              "[(4, 'Physics', 3.9), (10, 'Physics', 3.9)]"
            ]
          },
          "metadata": {},
          "execution_count": 20
        }
      ]
    },
    {
      "cell_type": "code",
      "source": [
        "cursor.execute(\"SELECT student_id, major, gpa FROM students WHERE gpa = (SELECT MIN(gpa) FROM students)\").fetchall()"
      ],
      "metadata": {
        "colab": {
          "base_uri": "https://localhost:8080/"
        },
        "id": "ptVuyLaKf_vx",
        "outputId": "d53731a4-1317-4fcb-c589-8f2162a4ed1c"
      },
      "id": "ptVuyLaKf_vx",
      "execution_count": 21,
      "outputs": [
        {
          "output_type": "execute_result",
          "data": {
            "text/plain": [
              "[(3, 'Engineering', 3.0)]"
            ]
          },
          "metadata": {},
          "execution_count": 21
        }
      ]
    },
    {
      "cell_type": "code",
      "source": [
        "cursor.execute(\"SELECT student_id, major, gpa FROM students WHERE major IN ('Physics', 'Engineering') AND gpa > 3.6\").fetchall()"
      ],
      "metadata": {
        "colab": {
          "base_uri": "https://localhost:8080/"
        },
        "id": "WWpAntbUgHLO",
        "outputId": "8fb4855a-6690-459a-9833-0b7ea5daef56"
      },
      "id": "WWpAntbUgHLO",
      "execution_count": 22,
      "outputs": [
        {
          "output_type": "execute_result",
          "data": {
            "text/plain": [
              "[(2, 'Physics', 3.8),\n",
              " (4, 'Physics', 3.9),\n",
              " (5, 'Engineering', 3.7),\n",
              " (8, 'Engineering', 3.8),\n",
              " (10, 'Physics', 3.9)]"
            ]
          },
          "metadata": {},
          "execution_count": 22
        }
      ]
    },
    {
      "cell_type": "code",
      "source": [
        "cursor.execute(\"SELECT major, AVG(gpa) FROM students GROUP BY major\").fetchall()"
      ],
      "metadata": {
        "colab": {
          "base_uri": "https://localhost:8080/"
        },
        "id": "9yCsENy9gLpp",
        "outputId": "91ec6c23-7b5f-4e3f-c310-60e8d7212765"
      },
      "id": "9yCsENy9gLpp",
      "execution_count": 23,
      "outputs": [
        {
          "output_type": "execute_result",
          "data": {
            "text/plain": [
              "[('Computer Science', 3.4333333333333336),\n",
              " ('Engineering', 3.5),\n",
              " ('Physics', 3.75)]"
            ]
          },
          "metadata": {},
          "execution_count": 23
        }
      ]
    },
    {
      "cell_type": "code",
      "source": [
        "cursor.execute('SELECT major, name, gpa FROM'\n",
        "                '(SELECT major, name, gpa, ROW_NUMBER() OVER (PARTITION BY major ORDER BY gpa DESC) AS rank FROM students)'\n",
        "                'WHERE rank<=2 ORDER BY major ASC, gpa DESC'\n",
        ").fetchall()"
      ],
      "metadata": {
        "colab": {
          "base_uri": "https://localhost:8080/"
        },
        "id": "zDjJL24egQWa",
        "outputId": "9e76f9cf-fbb4-4630-dcf5-5d276028920f"
      },
      "id": "zDjJL24egQWa",
      "execution_count": 24,
      "outputs": [
        {
          "output_type": "execute_result",
          "data": {
            "text/plain": [
              "[('Computer Science', 'Emily', 3.6),\n",
              " ('Computer Science', 'John', 3.5),\n",
              " ('Engineering', 'Jessica', 3.8),\n",
              " ('Engineering', 'James', 3.7),\n",
              " ('Physics', 'Samantha', 3.9),\n",
              " ('Physics', 'Ashley', 3.9)]"
            ]
          },
          "metadata": {},
          "execution_count": 24
        }
      ]
    },
    {
      "cell_type": "code",
      "source": [],
      "metadata": {
        "id": "K87bCEzljzGZ"
      },
      "id": "K87bCEzljzGZ",
      "execution_count": null,
      "outputs": []
    }
  ],
  "metadata": {
    "kernelspec": {
      "display_name": "Python 3 (ipykernel)",
      "language": "python",
      "name": "python3"
    },
    "language_info": {
      "codemirror_mode": {
        "name": "ipython",
        "version": 3
      },
      "file_extension": ".py",
      "mimetype": "text/x-python",
      "name": "python",
      "nbconvert_exporter": "python",
      "pygments_lexer": "ipython3",
      "version": "3.9.15"
    },
    "colab": {
      "provenance": []
    }
  },
  "nbformat": 4,
  "nbformat_minor": 5
}